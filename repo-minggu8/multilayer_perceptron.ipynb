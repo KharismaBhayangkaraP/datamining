{
 "cells": [
  {
   "cell_type": "code",
   "execution_count": 8,
   "metadata": {},
   "outputs": [],
   "source": [
    "import numpy as np"
   ]
  },
  {
   "cell_type": "code",
   "execution_count": 9,
   "metadata": {},
   "outputs": [],
   "source": [
    "def forwardpass(inputs, weight, bias, activation = 'linear'):\r\n",
    "  w_sum = np.dot(inputs, weight) + bias\r\n",
    "\r\n",
    "  if activation == 'relu' :\r\n",
    "    # Relu Activation f(x) = max(0, x)\r\n",
    "    act = np.maximum(w_sum, 0)\r\n",
    "  else :\r\n",
    "            # Linear Activation f(X) = x\r\n",
    "            act = w_sum\r\n",
    "\r\n",
    "            return act"
   ]
  },
  {
   "cell_type": "code",
   "execution_count": 10,
   "metadata": {},
   "outputs": [],
   "source": [
    "# Pre-trained weights $ Biases after Training\r\n",
    "W_H = np.array([[0.00192761, -0.78845304, 0.30310717, 0.44131625, 0.32792646, -0.02451803,1.43445349,-1.12972116]])\r\n",
    "b_H = np.array([-0.02657719, -1.15885878, -0.79183501, -0.33550513, -0.23438406, -0.25078532, 0.22305705, 0.80253315])\r\n",
    "\r\n",
    "W_o = np.array([[-0.77540326],[ 0.5030424 ], [ 0.37374797 ], [-0.20287184], [-0.35956827], [-0.54576212], [1.04326093], [ 0.8857621]])\r\n",
    "b_o = np.array([ 0.04351173])"
   ]
  },
  {
   "cell_type": "code",
   "execution_count": 11,
   "metadata": {},
   "outputs": [],
   "source": [
    "#Initialize Input Data\r\n",
    "inputs = np.array([[-2], [0], [2]])"
   ]
  },
  {
   "cell_type": "code",
   "execution_count": 12,
   "metadata": {},
   "outputs": [
    {
     "name": "stdout",
     "output_type": "stream",
     "text": [
      "Hidden Layer Output (relu)\n",
      "=============================\n",
      "[[-0.03043241  0.4180473  -1.39804935 -1.21813763 -0.89023698 -0.20174926\n",
      "  -2.64584993  3.06197547]\n",
      " [-0.02657719 -1.15885878 -0.79183501 -0.33550513 -0.23438406 -0.25078532\n",
      "   0.22305705  0.80253315]\n",
      " [-0.02272197 -2.73576486 -0.18562067  0.54712737  0.42146886 -0.29982138\n",
      "   3.09196403 -1.45690917]] \n",
      "\n",
      "Output Layer Output (Linear)\n",
      "================================\n",
      "[[0.38409039]\n",
      " [0.41798884]\n",
      " [0.45188728]] \n",
      "\n"
     ]
    }
   ],
   "source": [
    "#Output of Hidden Layer Data\r\n",
    "h_out = forwardpass(inputs, W_H,b_H, )\r\n",
    "\r\n",
    "print('Hidden Layer Output (relu)')\r\n",
    "print('=============================')\r\n",
    "print(h_out, \"\\n\")\r\n",
    "\r\n",
    "#Output Of  Output Layer\r\n",
    "o_out = forwardpass(h_out, W_o, b_o, )\r\n",
    "\r\n",
    "print('Output Layer Output (Linear)')\r\n",
    "print('================================')\r\n",
    "print(o_out, \"\\n\")\r\n",
    " "
   ]
  }
 ],
 "metadata": {
  "kernelspec": {
   "display_name": "Python 3.8.5 64-bit ('base': conda)",
   "name": "python385jvsc74a57bd05659a822c3979e56cc208cd078b496b0354d718594b947e07fc74a777ac9ebbc"
  },
  "language_info": {
   "codemirror_mode": {
    "name": "ipython",
    "version": 3
   },
   "file_extension": ".py",
   "mimetype": "text/x-python",
   "name": "python",
   "nbconvert_exporter": "python",
   "pygments_lexer": "ipython3",
   "version": "3.8.5"
  },
  "orig_nbformat": 2
 },
 "nbformat": 4,
 "nbformat_minor": 2
}