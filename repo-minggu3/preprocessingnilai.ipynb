{
 "cells": [
  {
   "cell_type": "code",
   "execution_count": 382,
   "metadata": {},
   "outputs": [],
   "source": [
    "import numpy as np\r\n",
    "import matplotlib.pyplot as plt\r\n",
    "import pandas as pd"
   ]
  },
  {
   "cell_type": "code",
   "execution_count": 383,
   "metadata": {},
   "outputs": [],
   "source": [
    "#importdataset \r\n",
    "#pemanggilan Dataset dengan nama Datanilaimhs.csv\r\n",
    "dataset= pd.read_csv('Datanilaimhs.csv')\r\n",
    "X = dataset.iloc[:,:-1].values\r\n",
    "y = dataset.iloc[:,-1].values\r\n"
   ]
  },
  {
   "cell_type": "code",
   "execution_count": 384,
   "metadata": {},
   "outputs": [
    {
     "name": "stdout",
     "output_type": "stream",
     "text": [
      "[['Budi' 92.0 3.0]\n",
      " ['Joko' 93.0 2.0]\n",
      " ['Iman' nan 2.0]\n",
      " ['Dwi' 85.0 1.0]\n",
      " ['Yudi' 96.0 2.0]\n",
      " ['Tama' 45.0 nan]\n",
      " ['Putri' nan 4.0]\n",
      " ['Rika' 72.0 3.0]]\n"
     ]
    }
   ],
   "source": [
    "print(X)"
   ]
  },
  {
   "cell_type": "code",
   "execution_count": 385,
   "metadata": {},
   "outputs": [
    {
     "name": "stdout",
     "output_type": "stream",
     "text": [
      "['Baik' 'Baik' 'Kurang' 'Baik' 'Baik' 'Kurang' 'Baik' 'Sedang']\n"
     ]
    }
   ],
   "source": [
    "print(y)"
   ]
  },
  {
   "cell_type": "code",
   "execution_count": 386,
   "metadata": {},
   "outputs": [],
   "source": [
    "#Menghilangkan  missing value\r\n",
    "from sklearn.impute import SimpleImputer\r\n",
    "#missing values = nilai data yang digunakan sebagai penanda bahwa nilai aslinya tidak ada \r\n",
    "#strategy : menggunakan rata-rata kolom mean bisa juga menggunakan median, most_frequent(modus) atau constant\r\n",
    "imputer = SimpleImputer(missing_values=np.nan, strategy='mean')\r\n",
    "imputer.fit(X[:, 1:3])\r\n",
    "X[:, 1:3] = imputer.transform(X[:, 1:3])"
   ]
  },
  {
   "cell_type": "code",
   "execution_count": 387,
   "metadata": {},
   "outputs": [
    {
     "name": "stdout",
     "output_type": "stream",
     "text": [
      "[['Budi' 92.0 3.0]\n",
      " ['Joko' 93.0 2.0]\n",
      " ['Iman' 80.5 2.0]\n",
      " ['Dwi' 85.0 1.0]\n",
      " ['Yudi' 96.0 2.0]\n",
      " ['Tama' 45.0 2.4285714285714284]\n",
      " ['Putri' 80.5 4.0]\n",
      " ['Rika' 72.0 3.0]]\n"
     ]
    }
   ],
   "source": [
    "print(X)"
   ]
  },
  {
   "cell_type": "code",
   "execution_count": 388,
   "metadata": {},
   "outputs": [],
   "source": [
    "#Enconding Data kategori(Atribut)\r\n",
    "from sklearn.compose import ColumnTransformer\r\n",
    "from sklearn.preprocessing import OneHotEncoder\r\n",
    "ct = ColumnTransformer(transformers =[('encoder',OneHotEncoder(), [0])], remainder='passthrough')\r\n",
    "X = np.array(ct.fit_transform(X))"
   ]
  },
  {
   "cell_type": "code",
   "execution_count": 389,
   "metadata": {},
   "outputs": [
    {
     "name": "stdout",
     "output_type": "stream",
     "text": [
      "[[1.0 0.0 0.0 0.0 0.0 0.0 0.0 0.0 92.0 3.0]\n",
      " [0.0 0.0 0.0 1.0 0.0 0.0 0.0 0.0 93.0 2.0]\n",
      " [0.0 0.0 1.0 0.0 0.0 0.0 0.0 0.0 80.5 2.0]\n",
      " [0.0 1.0 0.0 0.0 0.0 0.0 0.0 0.0 85.0 1.0]\n",
      " [0.0 0.0 0.0 0.0 0.0 0.0 0.0 1.0 96.0 2.0]\n",
      " [0.0 0.0 0.0 0.0 0.0 0.0 1.0 0.0 45.0 2.4285714285714284]\n",
      " [0.0 0.0 0.0 0.0 1.0 0.0 0.0 0.0 80.5 4.0]\n",
      " [0.0 0.0 0.0 0.0 0.0 1.0 0.0 0.0 72.0 3.0]]\n"
     ]
    }
   ],
   "source": [
    "print(X)"
   ]
  },
  {
   "cell_type": "code",
   "execution_count": 390,
   "metadata": {},
   "outputs": [],
   "source": [
    "#Encoding Data kategori(class/label)\r\n",
    "from sklearn.preprocessing import LabelEncoder\r\n",
    "le = LabelEncoder()\r\n",
    "y = le.fit_transform(y)"
   ]
  },
  {
   "cell_type": "code",
   "execution_count": 391,
   "metadata": {},
   "outputs": [
    {
     "name": "stdout",
     "output_type": "stream",
     "text": [
      "[0 0 1 0 0 1 0 2]\n"
     ]
    }
   ],
   "source": [
    "print(y)"
   ]
  },
  {
   "cell_type": "code",
   "execution_count": 392,
   "metadata": {},
   "outputs": [],
   "source": [
    "#Membagi dataset ke dalam training set dan test set\r\n",
    "from sklearn.model_selection import train_test_split\r\n",
    "X_train, X_test, y_train, y_test = train_test_split(X,y, test_size = 0.2, train_size = 0.8, random_state = 1)"
   ]
  },
  {
   "cell_type": "code",
   "execution_count": 393,
   "metadata": {},
   "outputs": [
    {
     "name": "stdout",
     "output_type": "stream",
     "text": [
      "[[0.0 0.0 0.0 1.0 0.0 0.0 0.0 0.0 93.0 2.0]\n",
      " [0.0 0.0 0.0 0.0 1.0 0.0 0.0 0.0 80.5 4.0]\n",
      " [1.0 0.0 0.0 0.0 0.0 0.0 0.0 0.0 92.0 3.0]\n",
      " [0.0 0.0 0.0 0.0 0.0 0.0 0.0 1.0 96.0 2.0]\n",
      " [0.0 1.0 0.0 0.0 0.0 0.0 0.0 0.0 85.0 1.0]\n",
      " [0.0 0.0 0.0 0.0 0.0 0.0 1.0 0.0 45.0 2.4285714285714284]]\n"
     ]
    }
   ],
   "source": [
    "print(X_train)\r\n"
   ]
  },
  {
   "cell_type": "code",
   "execution_count": 394,
   "metadata": {},
   "outputs": [
    {
     "name": "stdout",
     "output_type": "stream",
     "text": [
      "[[0.0 0.0 0.0 0.0 0.0 1.0 0.0 0.0 72.0 3.0]\n",
      " [0.0 0.0 1.0 0.0 0.0 0.0 0.0 0.0 80.5 2.0]]\n"
     ]
    }
   ],
   "source": [
    "print(X_test)"
   ]
  },
  {
   "cell_type": "code",
   "execution_count": 395,
   "metadata": {},
   "outputs": [
    {
     "name": "stdout",
     "output_type": "stream",
     "text": [
      "[0 0 0 0 0 1]\n"
     ]
    }
   ],
   "source": [
    "print(y_train)"
   ]
  },
  {
   "cell_type": "code",
   "execution_count": 396,
   "metadata": {},
   "outputs": [
    {
     "name": "stdout",
     "output_type": "stream",
     "text": [
      "[2 1]\n"
     ]
    }
   ],
   "source": [
    "print(y_test)"
   ]
  },
  {
   "cell_type": "code",
   "execution_count": 397,
   "metadata": {},
   "outputs": [],
   "source": [
    "#Feature Scaling\r\n",
    "from sklearn.preprocessing import StandardScaler\r\n",
    "sc = StandardScaler()\r\n",
    "X_train[:, 3:] = sc.fit_transform(X_train[:, 3:])\r\n",
    "X_test[:, 3:] = sc.transform(X_test[:, 3:])"
   ]
  },
  {
   "cell_type": "code",
   "execution_count": 398,
   "metadata": {},
   "outputs": [
    {
     "name": "stdout",
     "output_type": "stream",
     "text": [
      "[[0.0 0.0 0.0 2.2360679774997894 -0.44721359549995787 0.0\n",
      "  -0.44721359549995787 -0.44721359549995787 0.6403933423679932\n",
      "  -0.4347555938944297]\n",
      " [0.0 0.0 0.0 -0.44721359549995787 2.2360679774997894 0.0\n",
      "  -0.44721359549995787 -0.44721359549995787 -0.081854788122225\n",
      "  1.7134485171133411]\n",
      " [1.0 0.0 0.0 -0.44721359549995787 -0.44721359549995787 0.0\n",
      "  -0.44721359549995787 -0.44721359549995787 0.5826134919287758\n",
      "  0.6393464616094556]\n",
      " [0.0 0.0 0.0 -0.44721359549995787 -0.44721359549995787 0.0\n",
      "  -0.44721359549995787 2.2360679774997894 0.8137328936856455\n",
      "  -0.4347555938944297]\n",
      " [0.0 1.0 0.0 -0.44721359549995787 -0.44721359549995787 0.0\n",
      "  -0.44721359549995787 -0.44721359549995787 0.17815453885425353\n",
      "  -1.508857649398315]\n",
      " [0.0 0.0 0.0 -0.44721359549995787 -0.44721359549995787 0.0\n",
      "  2.2360679774997894 -0.44721359549995787 -2.1330394787144447\n",
      "  0.02557385846437813]]\n"
     ]
    }
   ],
   "source": [
    "print(X_train)"
   ]
  },
  {
   "cell_type": "code",
   "execution_count": 399,
   "metadata": {},
   "outputs": [
    {
     "name": "stdout",
     "output_type": "stream",
     "text": [
      "[[0.0 0.0 0.0 -0.44721359549995787 -0.44721359549995787 1.0\n",
      "  -0.44721359549995787 -0.44721359549995787 -0.5729835168555734\n",
      "  0.6393464616094556]\n",
      " [0.0 0.0 1.0 -0.44721359549995787 -0.44721359549995787 0.0\n",
      "  -0.44721359549995787 -0.44721359549995787 -0.081854788122225\n",
      "  -0.4347555938944297]]\n"
     ]
    }
   ],
   "source": [
    "print(X_test)"
   ]
  }
 ],
 "metadata": {
  "kernelspec": {
   "display_name": "Python 3.8.5 64-bit ('base': conda)",
   "metadata": {
    "interpreter": {
     "hash": "5659a822c3979e56cc208cd078b496b0354d718594b947e07fc74a777ac9ebbc"
    }
   },
   "name": "python3"
  },
  "language_info": {
   "codemirror_mode": {
    "name": "ipython",
    "version": 3
   },
   "file_extension": ".py",
   "mimetype": "text/x-python",
   "name": "python",
   "nbconvert_exporter": "python",
   "pygments_lexer": "ipython3",
   "version": "3.8.5"
  },
  "orig_nbformat": 2
 },
 "nbformat": 4,
 "nbformat_minor": 2
}